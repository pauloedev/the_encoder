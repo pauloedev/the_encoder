{
 "cells": [
  {
   "cell_type": "code",
   "execution_count": null,
   "id": "36097d72-598c-49a0-a47e-845ba178fa50",
   "metadata": {},
   "outputs": [],
   "source": [
    "#TESTE002 - USER PUT SOMETHING TO ENCODE\n",
    "from cryptography.fernet import Fernet\n",
    "\n",
    "key = Fernet.generate_key() #Generating random key\n",
    "    \n",
    "cipher_suite = Fernet(key) #Making an object with the Fernet's key\n",
    "    \n",
    "msg_original = input(\"Escreva seu texto para ser criptografado: \") #Input the plaintext\n",
    "    \n",
    "msg_bytes = msg_original.encode() #Converter a mensagem para bytes\n",
    "    \n",
    "msg_coded = cipher_suite.encrypt(msg_bytes) #Criptografando a mensagem\n",
    "    \n",
    "msg_coded_base64 = msg_coded.decode(\"utf-8\")\n",
    "    \n",
    "print(\"Sua mensagem criptografada: \", msg_cifrada_base64)\n",
    "\n"
   ]
  }
 ],
 "metadata": {
  "kernelspec": {
   "display_name": "Python 3 (ipykernel)",
   "language": "python",
   "name": "python3"
  },
  "language_info": {
   "codemirror_mode": {
    "name": "ipython",
    "version": 3
   },
   "file_extension": ".py",
   "mimetype": "text/x-python",
   "name": "python",
   "nbconvert_exporter": "python",
   "pygments_lexer": "ipython3",
   "version": "3.11.4"
  }
 },
 "nbformat": 4,
 "nbformat_minor": 5
}
